{
  "nbformat": 4,
  "nbformat_minor": 0,
  "metadata": {
    "colab": {
      "provenance": []
    },
    "kernelspec": {
      "name": "python3",
      "display_name": "Python 3"
    },
    "language_info": {
      "name": "python"
    }
  },
  "cells": [
    {
      "cell_type": "code",
      "execution_count": null,
      "metadata": {
        "id": "ADe1SNhoKMda"
      },
      "outputs": [],
      "source": [
        "%%sh\n",
        "sudo pip install pyodbc\n",
        "sudo pip install sqlalchemy\n",
        "sudo pip install pymysql\n",
        "sudo pip install mysqlclient"
      ]
    },
    {
      "cell_type": "code",
      "source": [
        "import pandas as pd\n",
        "\n",
        "cidade_df = pd.read_csv('/content/CIDADE.csv')\n",
        "estado_df = pd.read_csv('/content/ESTADO.csv')\n",
        "pais_df = pd.read_csv('/content/PAIS.csv')"
      ],
      "metadata": {
        "id": "t2GmBWfZTa6X"
      },
      "execution_count": null,
      "outputs": []
    },
    {
      "cell_type": "code",
      "source": [
        "import sqlalchemy,pyodbc\n",
        "servidor = 'engenharia-dados2.cyzjodyfg09f.us-east-1.rds.amazonaws.com'\n",
        "usuario = 'aluno'\n",
        "senha = 'aluno123'\n",
        "str_conexao = f'mysql://{usuario}:{senha}@{servidor}'\n",
        "engine = sqlalchemy.create_engine(str_conexao)\n",
        "engine.connect()"
      ],
      "metadata": {
        "id": "8_pg-5WET5OR"
      },
      "execution_count": null,
      "outputs": []
    },
    {
      "cell_type": "code",
      "source": [
        "database = 'engenharia_dados'\n",
        "str_conexao = f'mysql://{usuario}:{senha}@{servidor}/{database}'\n",
        "engine = sqlalchemy.create_engine(str_conexao)\n",
        "engine.connect()"
      ],
      "metadata": {
        "id": "7xk8HZsdVCfo"
      },
      "execution_count": null,
      "outputs": []
    },
    {
      "cell_type": "code",
      "source": [
        "cidade_df = pd.read_csv('/content/CIDADE.csv')\n",
        "cidade_df.to_sql('CIDADE', engine, if_exists=\"replace\")"
      ],
      "metadata": {
        "colab": {
          "base_uri": "https://localhost:8080/"
        },
        "id": "J6N-BCtmXyx_",
        "outputId": "90c3cc45-ce14-4255-869a-a59c124e75fd"
      },
      "execution_count": null,
      "outputs": [
        {
          "output_type": "execute_result",
          "data": {
            "text/plain": [
              "5"
            ]
          },
          "metadata": {},
          "execution_count": 25
        }
      ]
    },
    {
      "cell_type": "code",
      "source": [
        "estado_df = pd.read_csv('/content/ESTADO.csv')\n",
        "estado_df.to_sql('ESTADO', engine, if_exists=\"replace\")"
      ],
      "metadata": {
        "colab": {
          "base_uri": "https://localhost:8080/"
        },
        "id": "OqM1ikELX9LP",
        "outputId": "1d1a7b74-8432-4f67-df31-5c6beb46bfa3"
      },
      "execution_count": null,
      "outputs": [
        {
          "output_type": "execute_result",
          "data": {
            "text/plain": [
              "3"
            ]
          },
          "metadata": {},
          "execution_count": 26
        }
      ]
    },
    {
      "cell_type": "code",
      "source": [
        "pais_df = pd.read_csv('/content/PAIS.csv')\n",
        "pais_df.to_sql('PAIS', engine, if_exists=\"replace\")"
      ],
      "metadata": {
        "colab": {
          "base_uri": "https://localhost:8080/"
        },
        "id": "-wRCTAbGX9Su",
        "outputId": "bbc72185-26d6-4e52-dd8f-4b2d70ebab4e"
      },
      "execution_count": null,
      "outputs": [
        {
          "output_type": "execute_result",
          "data": {
            "text/plain": [
              "2"
            ]
          },
          "metadata": {},
          "execution_count": 27
        }
      ]
    },
    {
      "cell_type": "code",
      "source": [
        "database = 'AC2'\n",
        "str_conexao = f'mysql://{usuario}:{senha}@{servidor}/{database}'\n",
        "engine = sqlalchemy.create_engine(str_conexao)\n",
        "engine.connect()"
      ],
      "metadata": {
        "colab": {
          "base_uri": "https://localhost:8080/"
        },
        "id": "vWwaVK6kZv6p",
        "outputId": "398e1bbc-e0ab-4a44-a267-84760c39a6d7"
      },
      "execution_count": null,
      "outputs": [
        {
          "output_type": "execute_result",
          "data": {
            "text/plain": [
              "<sqlalchemy.engine.base.Connection at 0x7f64de0badf0>"
            ]
          },
          "metadata": {},
          "execution_count": 28
        }
      ]
    },
    {
      "cell_type": "code",
      "source": [
        "time_df = pd.read_sql('TIME', engine)\n",
        "time_df.to_csv('TIME.csv')"
      ],
      "metadata": {
        "id": "6iFlfbT3Z3bh"
      },
      "execution_count": null,
      "outputs": []
    },
    {
      "cell_type": "markdown",
      "source": [
        "# Aluno: Gregory Henrique Cavalcanti Alves Leite\n",
        "# RA: 2202566"
      ],
      "metadata": {
        "id": "T4OzfJPda-W_"
      }
    }
  ]
}